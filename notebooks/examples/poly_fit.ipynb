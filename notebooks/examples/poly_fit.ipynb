{
 "cells": [
  {
   "cell_type": "markdown",
   "metadata": {},
   "source": [
    "Polynomial Fit Plot\n",
    "===================\n",
    "This example shows how to overlay data with a fitted polynomial\n"
   ]
  },
  {
   "cell_type": "code",
   "execution_count": 1,
   "metadata": {
    "execution": {
     "iopub.execute_input": "2023-08-10T23:04:43.076650Z",
     "iopub.status.busy": "2023-08-10T23:04:43.076423Z",
     "iopub.status.idle": "2023-08-10T23:04:43.822305Z",
     "shell.execute_reply": "2023-08-10T23:04:43.821855Z",
     "shell.execute_reply.started": "2023-08-10T23:04:43.076631Z"
    }
   },
   "outputs": [
    {
     "data": {
      "text/html": [
       "\n",
       "<style>\n",
       "  #altair-viz-fe111dab2c654c26a56c4fb62f668a9d.vega-embed {\n",
       "    width: 100%;\n",
       "    display: flex;\n",
       "  }\n",
       "\n",
       "  #altair-viz-fe111dab2c654c26a56c4fb62f668a9d.vega-embed details,\n",
       "  #altair-viz-fe111dab2c654c26a56c4fb62f668a9d.vega-embed details summary {\n",
       "    position: relative;\n",
       "  }\n",
       "</style>\n",
       "<div id=\"altair-viz-fe111dab2c654c26a56c4fb62f668a9d\"></div>\n",
       "<script type=\"text/javascript\">\n",
       "  var VEGA_DEBUG = (typeof VEGA_DEBUG == \"undefined\") ? {} : VEGA_DEBUG;\n",
       "  (function(spec, embedOpt){\n",
       "    let outputDiv = document.currentScript.previousElementSibling;\n",
       "    if (outputDiv.id !== \"altair-viz-fe111dab2c654c26a56c4fb62f668a9d\") {\n",
       "      outputDiv = document.getElementById(\"altair-viz-fe111dab2c654c26a56c4fb62f668a9d\");\n",
       "    }\n",
       "    const paths = {\n",
       "      \"vega\": \"https://cdn.jsdelivr.net/npm/vega@5?noext\",\n",
       "      \"vega-lib\": \"https://cdn.jsdelivr.net/npm/vega-lib?noext\",\n",
       "      \"vega-lite\": \"https://cdn.jsdelivr.net/npm/vega-lite@5.8.0?noext\",\n",
       "      \"vega-embed\": \"https://cdn.jsdelivr.net/npm/vega-embed@6?noext\",\n",
       "    };\n",
       "\n",
       "    function maybeLoadScript(lib, version) {\n",
       "      var key = `${lib.replace(\"-\", \"\")}_version`;\n",
       "      return (VEGA_DEBUG[key] == version) ?\n",
       "        Promise.resolve(paths[lib]) :\n",
       "        new Promise(function(resolve, reject) {\n",
       "          var s = document.createElement('script');\n",
       "          document.getElementsByTagName(\"head\")[0].appendChild(s);\n",
       "          s.async = true;\n",
       "          s.onload = () => {\n",
       "            VEGA_DEBUG[key] = version;\n",
       "            return resolve(paths[lib]);\n",
       "          };\n",
       "          s.onerror = () => reject(`Error loading script: ${paths[lib]}`);\n",
       "          s.src = paths[lib];\n",
       "        });\n",
       "    }\n",
       "\n",
       "    function showError(err) {\n",
       "      outputDiv.innerHTML = `<div class=\"error\" style=\"color:red;\">${err}</div>`;\n",
       "      throw err;\n",
       "    }\n",
       "\n",
       "    function displayChart(vegaEmbed) {\n",
       "      vegaEmbed(outputDiv, spec, embedOpt)\n",
       "        .catch(err => showError(`Javascript Error: ${err.message}<br>This usually means there's a typo in your chart specification. See the javascript console for the full traceback.`));\n",
       "    }\n",
       "\n",
       "    if(typeof define === \"function\" && define.amd) {\n",
       "      requirejs.config({paths});\n",
       "      require([\"vega-embed\"], displayChart, err => showError(`Error loading script: ${err.message}`));\n",
       "    } else {\n",
       "      maybeLoadScript(\"vega\", \"5\")\n",
       "        .then(() => maybeLoadScript(\"vega-lite\", \"5.8.0\"))\n",
       "        .then(() => maybeLoadScript(\"vega-embed\", \"6\"))\n",
       "        .catch(showError)\n",
       "        .then(() => displayChart(vegaEmbed));\n",
       "    }\n",
       "  })({\"config\": {\"view\": {\"continuousWidth\": 300, \"continuousHeight\": 300}}, \"layer\": [{\"data\": {\"url\": \"altair-data-cf40dee5bbc548c8bc7b6f3aea94d518.json\", \"format\": {\"type\": \"json\"}}, \"mark\": {\"type\": \"circle\", \"color\": \"black\"}, \"encoding\": {\"x\": {\"axis\": {\"title\": \"x\"}, \"field\": \"x\", \"type\": \"quantitative\"}, \"y\": {\"axis\": {\"title\": \"y\"}, \"field\": \"y\", \"type\": \"quantitative\"}}, \"name\": \"view_1\"}, {\"data\": {\"url\": \"altair-data-0282df779116600485b2c0117817c908.json\", \"format\": {\"type\": \"json\"}}, \"mark\": {\"type\": \"line\"}, \"encoding\": {\"color\": {\"field\": \"degree\", \"type\": \"nominal\"}, \"x\": {\"field\": \"xfit\", \"type\": \"quantitative\"}, \"y\": {\"field\": \"yfit\", \"type\": \"quantitative\"}}}], \"params\": [{\"name\": \"param_1\", \"select\": {\"type\": \"interval\", \"encodings\": [\"x\", \"y\"]}, \"bind\": \"scales\", \"views\": [\"view_1\"]}], \"$schema\": \"https://vega.github.io/schema/vega-lite/v5.8.0.json\"}, {\"mode\": \"vega-lite\"});\n",
       "</script>"
      ],
      "text/plain": [
       "alt.LayerChart(...)"
      ]
     },
     "execution_count": 1,
     "metadata": {},
     "output_type": "execute_result"
    }
   ],
   "source": [
    "\n",
    "import numpy as np\n",
    "import pandas as pd\n",
    "import altair as alt\n",
    "alt.data_transformers.enable('json')\n",
    "\n",
    "# Generate some random data\n",
    "rng = np.random.RandomState(1)\n",
    "x = rng.rand(40) ** 2\n",
    "y = 10 - 1. / (x + 0.1) + rng.randn(40)\n",
    "df = pd.DataFrame({'x': x, 'y': y})\n",
    "\n",
    "# Define the degree of the polynomial fit\n",
    "degree_list = [1, 3, 5]\n",
    "\n",
    "# Build a dataframe with the fitted data\n",
    "poly_data = pd.DataFrame({'xfit': np.linspace(df['x'].min(), df['x'].max(), 500)})\n",
    "\n",
    "for degree in degree_list:\n",
    "    poly_data[str(degree)] = np.poly1d(np.polyfit(df['x'], df['y'], degree))(poly_data['xfit'])\n",
    "\n",
    "# Tidy the dataframe so 'degree' is a variable\n",
    "poly_data = pd.melt(poly_data,\n",
    "                    id_vars=['xfit'],\n",
    "                    value_vars=[str(deg) for deg in degree_list],\n",
    "                    var_name='degree', value_name='yfit')\n",
    "\n",
    "# Plot the data points on an interactive axis\n",
    "points = alt.Chart(df).mark_circle(color='black').encode(\n",
    "    x=alt.X('x', axis=alt.Axis(title='x')),\n",
    "    y=alt.Y('y', axis=alt.Axis(title='y')),\n",
    ").interactive()\n",
    "\n",
    "# Plot the best fit polynomials\n",
    "polynomial_fit = alt.Chart(poly_data).mark_line().encode(\n",
    "    x='xfit',\n",
    "    y='yfit',\n",
    "    color='degree'\n",
    ")\n",
    "\n",
    "points + polynomial_fit\n"
   ]
  },
  {
   "cell_type": "code",
   "execution_count": null,
   "metadata": {},
   "outputs": [],
   "source": []
  }
 ],
 "metadata": {
  "kernelspec": {
   "display_name": "Python 3 (geodata)",
   "language": "python",
   "name": "env_geodata"
  },
  "language": "python",
  "language_info": {
   "codemirror_mode": {
    "name": "ipython",
    "version": 3
   },
   "file_extension": ".py",
   "mimetype": "text/x-python",
   "name": "python",
   "nbconvert_exporter": "python",
   "pygments_lexer": "ipython3",
   "version": "3.9.17"
  }
 },
 "nbformat": 4,
 "nbformat_minor": 4
}
