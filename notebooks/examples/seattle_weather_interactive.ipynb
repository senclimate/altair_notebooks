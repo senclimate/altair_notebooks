{
 "cells": [
  {
   "cell_type": "markdown",
   "metadata": {},
   "source": [
    "Seattle Weather Interactive\n",
    "===========================\n",
    "This chart provides an interactive exploration of Seattle weather over the\n",
    "course of the year. It includes a one-axis brush selection to easily\n",
    "see the distribution of weather types in a particular date range.\n"
   ]
  },
  {
   "cell_type": "code",
   "execution_count": 1,
   "metadata": {
    "execution": {
     "iopub.execute_input": "2023-08-10T23:05:20.076000Z",
     "iopub.status.busy": "2023-08-10T23:05:20.075623Z",
     "iopub.status.idle": "2023-08-10T23:05:21.196862Z",
     "shell.execute_reply": "2023-08-10T23:05:21.196414Z",
     "shell.execute_reply.started": "2023-08-10T23:05:20.075982Z"
    }
   },
   "outputs": [
    {
     "name": "stderr",
     "output_type": "stream",
     "text": [
      "/export/epekema/zhaos/apps/miniconda3/envs/env_geodata/lib/python3.9/site-packages/altair/utils/deprecation.py:65: AltairDeprecationWarning: 'selection_multi' is deprecated.  Use 'selection_point'\n",
      "  warnings.warn(message, AltairDeprecationWarning, stacklevel=1)\n",
      "/export/epekema/zhaos/apps/miniconda3/envs/env_geodata/lib/python3.9/site-packages/altair/utils/deprecation.py:65: AltairDeprecationWarning: 'ref' is deprecated. No need to call '.ref()' anymore.\n",
      "  warnings.warn(message, AltairDeprecationWarning, stacklevel=1)\n"
     ]
    },
    {
     "ename": "SchemaValidationError",
     "evalue": "Multiple errors were found.\n\nError 1: `VConcatChart` has no parameter named 'selection'\n\n    Existing parameter names are:\n    vconcat      center     description   params    title       \n    autosize     config     name          resolve   transform   \n    background   data       padding       spacing   usermeta    \n    bounds       datasets                                       \n\n    See the help for `VConcatChart` to read the full description of these parameters\n\nError 2: `VConcatChart` has no parameter named 'selection'\n\n    Existing parameter names are:\n    vconcat      center     description   params    title       \n    autosize     config     name          resolve   transform   \n    background   data       padding       spacing   usermeta    \n    bounds       datasets                                       \n\n    See the help for `VConcatChart` to read the full description of these parameters",
     "output_type": "error",
     "traceback": [
      "\u001b[0;31m---------------------------------------------------------------------------\u001b[0m",
      "\u001b[0;31mSchemaValidationError\u001b[0m                     Traceback (most recent call last)",
      "File \u001b[0;32m/export/epekema/zhaos/apps/miniconda3/envs/env_geodata/lib/python3.9/site-packages/altair/vegalite/v5/api.py:850\u001b[0m, in \u001b[0;36mTopLevelMixin.to_dict\u001b[0;34m(self, *args, **kwargs)\u001b[0m\n\u001b[1;32m    845\u001b[0m kwargs[\u001b[38;5;124m\"\u001b[39m\u001b[38;5;124mcontext\u001b[39m\u001b[38;5;124m\"\u001b[39m] \u001b[38;5;241m=\u001b[39m context\n\u001b[1;32m    847\u001b[0m \u001b[38;5;66;03m# TopLevelMixin instance does not necessarily have to_dict defined\u001b[39;00m\n\u001b[1;32m    848\u001b[0m \u001b[38;5;66;03m# but due to how Altair is set up this should hold.\u001b[39;00m\n\u001b[1;32m    849\u001b[0m \u001b[38;5;66;03m# Too complex to type hint right now\u001b[39;00m\n\u001b[0;32m--> 850\u001b[0m dct \u001b[38;5;241m=\u001b[39m \u001b[38;5;28;43msuper\u001b[39;49m\u001b[43m(\u001b[49m\u001b[43mTopLevelMixin\u001b[49m\u001b[43m,\u001b[49m\u001b[43m \u001b[49m\u001b[43mcopy\u001b[49m\u001b[43m)\u001b[49m\u001b[38;5;241;43m.\u001b[39;49m\u001b[43mto_dict\u001b[49m\u001b[43m(\u001b[49m\u001b[38;5;241;43m*\u001b[39;49m\u001b[43margs\u001b[49m\u001b[43m,\u001b[49m\u001b[43m \u001b[49m\u001b[38;5;241;43m*\u001b[39;49m\u001b[38;5;241;43m*\u001b[39;49m\u001b[43mkwargs\u001b[49m\u001b[43m)\u001b[49m  \u001b[38;5;66;03m# type: ignore[misc]\u001b[39;00m\n\u001b[1;32m    852\u001b[0m \u001b[38;5;66;03m# TODO: following entries are added after validation. Should they be validated?\u001b[39;00m\n\u001b[1;32m    853\u001b[0m \u001b[38;5;28;01mif\u001b[39;00m is_top_level:\n\u001b[1;32m    854\u001b[0m     \u001b[38;5;66;03m# since this is top-level we add $schema if it's missing\u001b[39;00m\n",
      "File \u001b[0;32m/export/epekema/zhaos/apps/miniconda3/envs/env_geodata/lib/python3.9/site-packages/altair/utils/schemapi.py:814\u001b[0m, in \u001b[0;36mSchemaBase.to_dict\u001b[0;34m(self, validate, ignore, context)\u001b[0m\n\u001b[1;32m    807\u001b[0m         \u001b[38;5;28mself\u001b[39m\u001b[38;5;241m.\u001b[39mvalidate(result)\n\u001b[1;32m    808\u001b[0m     \u001b[38;5;28;01mexcept\u001b[39;00m jsonschema\u001b[38;5;241m.\u001b[39mValidationError \u001b[38;5;28;01mas\u001b[39;00m err:\n\u001b[1;32m    809\u001b[0m         \u001b[38;5;66;03m# We do not raise `from err` as else the resulting\u001b[39;00m\n\u001b[1;32m    810\u001b[0m         \u001b[38;5;66;03m# traceback is very long as it contains part\u001b[39;00m\n\u001b[1;32m    811\u001b[0m         \u001b[38;5;66;03m# of the Vega-Lite schema. It would also first\u001b[39;00m\n\u001b[1;32m    812\u001b[0m         \u001b[38;5;66;03m# show the less helpful ValidationError instead of\u001b[39;00m\n\u001b[1;32m    813\u001b[0m         \u001b[38;5;66;03m# the more user friendly SchemaValidationError\u001b[39;00m\n\u001b[0;32m--> 814\u001b[0m         \u001b[38;5;28;01mraise\u001b[39;00m SchemaValidationError(\u001b[38;5;28mself\u001b[39m, err) \u001b[38;5;28;01mfrom\u001b[39;00m \u001b[38;5;28;01mNone\u001b[39;00m\n\u001b[1;32m    815\u001b[0m \u001b[38;5;28;01mreturn\u001b[39;00m result\n",
      "\u001b[0;31mSchemaValidationError\u001b[0m: Multiple errors were found.\n\nError 1: `VConcatChart` has no parameter named 'selection'\n\n    Existing parameter names are:\n    vconcat      center     description   params    title       \n    autosize     config     name          resolve   transform   \n    background   data       padding       spacing   usermeta    \n    bounds       datasets                                       \n\n    See the help for `VConcatChart` to read the full description of these parameters\n\nError 2: `VConcatChart` has no parameter named 'selection'\n\n    Existing parameter names are:\n    vconcat      center     description   params    title       \n    autosize     config     name          resolve   transform   \n    background   data       padding       spacing   usermeta    \n    bounds       datasets                                       \n\n    See the help for `VConcatChart` to read the full description of these parameters"
     ]
    },
    {
     "data": {
      "text/plain": [
       "alt.VConcatChart(...)"
      ]
     },
     "execution_count": 1,
     "metadata": {},
     "output_type": "execute_result"
    }
   ],
   "source": [
    "# category: interactive\n",
    "\n",
    "import altair as alt\n",
    "alt.data_transformers.enable('json')\n",
    "from vega_datasets import data\n",
    "\n",
    "scale = alt.Scale(domain=['sun', 'fog', 'drizzle', 'rain', 'snow'],\n",
    "                  range=['#e7ba52', '#a7a7a7', '#aec7e8', '#1f77b4', '#9467bd'])\n",
    "color = alt.Color('weather:N', scale=scale)\n",
    "\n",
    "# We create two selections:\n",
    "# - a brush that is active on the top panel\n",
    "# - a multi-click that is active on the bottom panel\n",
    "brush = alt.selection_interval(encodings=['x'])\n",
    "click = alt.selection_multi(encodings=['color'])\n",
    "\n",
    "# Top panel is scatter plot of temperature vs time\n",
    "points = alt.Chart().mark_point().encode(\n",
    "    alt.X('date:T', timeUnit='monthdate', axis=alt.Axis(title='Date')),\n",
    "    alt.Y('temp_max:Q',\n",
    "        axis=alt.Axis(title='Maximum Daily Temperature (C)'),\n",
    "        scale=alt.Scale(domain=[-5, 40])\n",
    "    ),\n",
    "    color=alt.condition(brush, color, alt.value('lightgray')),\n",
    "    size=alt.Size('precipitation:Q', scale=alt.Scale(range=[5, 200]))\n",
    ").properties(\n",
    "    width=600,\n",
    "    height=300,\n",
    "    selection=brush\n",
    ").transform_filter(\n",
    "    click.ref()\n",
    ")\n",
    "\n",
    "# Bottom panel is a bar chart of weather type\n",
    "bars = alt.Chart().mark_bar().encode(\n",
    "    x='count()',\n",
    "    y='weather:N',\n",
    "    color=alt.condition(click, color, alt.value('lightgray')),\n",
    ").transform_filter(\n",
    "    brush.ref()\n",
    ").properties(\n",
    "    width=600,\n",
    "    selection=click\n",
    ")\n",
    "\n",
    "alt.vconcat(points, bars,\n",
    "    data=data.seattle_weather.url,\n",
    "    title=\"Seattle Weather: 2012-2015\"\n",
    ")\n"
   ]
  }
 ],
 "metadata": {
  "kernelspec": {
   "display_name": "Python 3 (geodata)",
   "language": "python",
   "name": "env_geodata"
  },
  "language": "python",
  "language_info": {
   "codemirror_mode": {
    "name": "ipython",
    "version": 3
   },
   "file_extension": ".py",
   "mimetype": "text/x-python",
   "name": "python",
   "nbconvert_exporter": "python",
   "pygments_lexer": "ipython3",
   "version": "3.9.17"
  }
 },
 "nbformat": 4,
 "nbformat_minor": 4
}
